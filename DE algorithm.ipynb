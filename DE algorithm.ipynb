{
 "cells": [
  {
   "cell_type": "code",
   "execution_count": 1,
   "source": [
    "from Differential_evolution import differential_ev"
   ],
   "outputs": [],
   "metadata": {}
  },
  {
   "cell_type": "code",
   "execution_count": 2,
   "source": [
    "# nPop= 50, MaxIt= 100, beta_min= 0.2, beta_max= 0.8, pCR= 0.2\r\n",
    "sol = differential_ev('MITCHELL.txt', 26, 0.95,2,25, 50, 0, 0.5, 0.3)\r\n",
    "print(sol[0].solution[1],sol[0].solution[2], sol[0].solution[3], sol[1])"
   ],
   "outputs": [
    {
     "output_type": "stream",
     "name": "stdout",
     "text": [
      "2.8 ('Station', 3) ('Operator', 5) 0.03406047821044922\n"
     ]
    }
   ],
   "metadata": {}
  },
  {
   "cell_type": "code",
   "execution_count": null,
   "source": [
    "import pandas as pd\r\n",
    "import time\r\n",
    "import numpy as np\r\n",
    "import math as ma\r\n",
    "from Multi_Manned_with_U_Shaped_functions import normdf, prob_data\r\n",
    "from scipy import stats"
   ],
   "outputs": [],
   "metadata": {}
  },
  {
   "cell_type": "code",
   "execution_count": null,
   "source": [
    "with open('DOE_problems.csv', 'r') as fl:\r\n",
    "    data = fl.readlines()\r\n",
    "with open('TaguchiDE.csv', 'r') as fl:\r\n",
    "    orthogonal_array = fl.readlines()\r\n",
    "# trail = orthogonal_array[0].strip().split(',')\r\n",
    "# trail = map(int, trail)\r\n",
    "resutls = pd.DataFrame()\r\n",
    "counter = 0\r\n",
    "for j in data:\r\n",
    "    ct = int(j.strip().split(',')[1])\r\n",
    "    filename = j.strip().split(',')[0]\r\n",
    "    print(filename)\r\n",
    "    values = []\r\n",
    "    for i in orthogonal_array:\r\n",
    "        trail = i.strip().split(',')\r\n",
    "        trail = list(map(lambda x: float(x), trail))\r\n",
    "        # print(filename, ct, 0.95, int(trail[0]), int(trail[1]),trail[2], trail[3], trail[4])\r\n",
    "        # print(type(int(trail[0])))\r\n",
    "        # ('MITCHELL.txt', 26, 0.95,2,50, 20, 0.2, 0.8, 0.2)\r\n",
    "        sol = differential_ev(filename, ct, 0.95, 2,  int(trail[0]), int(trail[1]),trail[2], trail[3], trail[4])\r\n",
    "        values.append(sol[0].solution[1] - (1/(1+sol[1])))\r\n",
    "    counter += 1\r\n",
    "    resutls[str(counter)] = values\r\n",
    "    resutls.to_csv('Taguchi_dataDE.csv', index=False)"
   ],
   "outputs": [],
   "metadata": {}
  },
  {
   "cell_type": "code",
   "execution_count": null,
   "source": [
    "import pandas as pd"
   ],
   "outputs": [],
   "metadata": {}
  },
  {
   "cell_type": "code",
   "execution_count": null,
   "source": [
    "data = pd.read_csv('Taguchi_dataDE.csv')"
   ],
   "outputs": [],
   "metadata": {}
  },
  {
   "cell_type": "code",
   "execution_count": null,
   "source": [
    "data"
   ],
   "outputs": [],
   "metadata": {}
  },
  {
   "cell_type": "code",
   "execution_count": null,
   "source": [
    "# data.iloc[:,0] / sum(data.iloc[:,0])\r\n",
    "# data.columns\r\n",
    "# data.iloc[list(data.iloc[:,0] <=4.89),0]\r\n",
    "# data['1']\r\n",
    "data2 = normdf(data)\r\n",
    "data2.to_csv('Taguchi_normDE.csv', index = False)"
   ],
   "outputs": [],
   "metadata": {}
  },
  {
   "cell_type": "code",
   "execution_count": null,
   "source": [
    "data2"
   ],
   "outputs": [],
   "metadata": {}
  },
  {
   "cell_type": "code",
   "execution_count": null,
   "source": [
    "import matplotlib.pyplot as plt\r\n",
    "from scipy.stats import f_oneway\r\n",
    "from statsmodels.stats.multicomp import pairwise_tukeyhsd"
   ],
   "outputs": [],
   "metadata": {}
  },
  {
   "cell_type": "code",
   "execution_count": null,
   "source": [
    "facotr_1 = pd.read_csv('TaguchiDE.csv', header=None).iloc[:,0]\r\n",
    "# print(facotr_1)\r\n",
    "data3 = data2.copy()\r\n",
    "data3.insert(0, 'MaxItr_F', facotr_1)\r\n",
    "# print(data3[data3['MaxItr_F'] == 10])\r\n",
    "levels = list(dict.fromkeys(data3['MaxItr_F']))\r\n",
    "# print(levels)\r\n",
    "stacked_values = []\r\n",
    "\r\n",
    "stacked_levels = []\r\n",
    "for i in levels:    \r\n",
    "    df = data3[data3['MaxItr_F'] == i].iloc[:,1:]\r\n",
    "    # print(i)\r\n",
    "    lst = []\r\n",
    "    for j in df:\r\n",
    "        lst.extend(df[j])\r\n",
    "    x = ((str(i) + ' ') * len(lst)).split()    \r\n",
    "    stacked_levels.extend(x)\r\n",
    "    # print(stacked_levels)\r\n",
    "    stacked_values.extend(lst)\r\n",
    "\r\n",
    "stacked = pd.DataFrame({'Levels': stacked_levels, 'Values':stacked_values})\r\n",
    "\r\n",
    "levels_v = []\r\n",
    "for i in levels:    \r\n",
    "    levels_v.append(list(stacked[stacked.iloc[:,0]==str(i)].iloc[:,1]))\r\n",
    "\r\n",
    "print(f_oneway(levels_v[0], levels_v[1], levels_v[2], levels_v[3]))\r\n",
    "\r\n",
    "tukey = pairwise_tukeyhsd(endog= stacked['Values'], groups=stacked['Levels'], alpha=0.05)\r\n",
    "# print(tukey)\r\n",
    "tukey.plot_simultaneous()\r\n",
    "\r\n",
    "tukey.summary()"
   ],
   "outputs": [],
   "metadata": {}
  },
  {
   "cell_type": "code",
   "execution_count": null,
   "source": [
    "facotr_1 = pd.read_csv('TaguchiDE.csv', header=None).iloc[:,1]\r\n",
    "# print(facotr_1)\r\n",
    "data3 = data2.copy()\r\n",
    "data3.insert(0, 'MaxItr_F', facotr_1)\r\n",
    "# print(data3[data3['MaxItr_F'] == 10])\r\n",
    "levels = list(dict.fromkeys(data3['MaxItr_F']))\r\n",
    "# print(levels)\r\n",
    "stacked_values = []\r\n",
    "\r\n",
    "stacked_levels = []\r\n",
    "for i in levels:    \r\n",
    "    df = data3[data3['MaxItr_F'] == i].iloc[:,1:]\r\n",
    "    # print(i)\r\n",
    "    lst = []\r\n",
    "    for j in df:\r\n",
    "        lst.extend(df[j])\r\n",
    "    x = ((str(i) + ' ') * len(lst)).split()    \r\n",
    "    stacked_levels.extend(x)\r\n",
    "    # print(stacked_levels)\r\n",
    "    stacked_values.extend(lst)\r\n",
    "\r\n",
    "stacked = pd.DataFrame({'Levels': stacked_levels, 'Values':stacked_values})\r\n",
    "\r\n",
    "levels_v = []\r\n",
    "for i in levels:    \r\n",
    "    levels_v.append(list(stacked[stacked.iloc[:,0]==str(i)].iloc[:,1]))\r\n",
    "\r\n",
    "print(f_oneway(levels_v[0], levels_v[1], levels_v[2], levels_v[3]))\r\n",
    "\r\n",
    "tukey = pairwise_tukeyhsd(endog= stacked['Values'], groups=stacked['Levels'], alpha=0.05)\r\n",
    "# print(tukey)\r\n",
    "tukey.plot_simultaneous()\r\n",
    "\r\n",
    "tukey.summary()"
   ],
   "outputs": [],
   "metadata": {}
  },
  {
   "cell_type": "code",
   "execution_count": null,
   "source": [
    "facotr_1 = pd.read_csv('TaguchiDE.csv', header=None).iloc[:,2]\r\n",
    "# print(facotr_1)\r\n",
    "data3 = data2.copy()\r\n",
    "data3.insert(0, 'MaxItr_F', facotr_1)\r\n",
    "# print(data3[data3['MaxItr_F'] == 10])\r\n",
    "levels = list(dict.fromkeys(data3['MaxItr_F']))\r\n",
    "# print(levels)\r\n",
    "stacked_values = []\r\n",
    "\r\n",
    "stacked_levels = []\r\n",
    "for i in levels:    \r\n",
    "    df = data3[data3['MaxItr_F'] == i].iloc[:,1:]\r\n",
    "    # print(i)\r\n",
    "    lst = []\r\n",
    "    for j in df:\r\n",
    "        lst.extend(df[j])\r\n",
    "    x = ((str(i) + ' ') * len(lst)).split()    \r\n",
    "    stacked_levels.extend(x)\r\n",
    "    # print(stacked_levels)\r\n",
    "    stacked_values.extend(lst)\r\n",
    "\r\n",
    "stacked = pd.DataFrame({'Levels': stacked_levels, 'Values':stacked_values})\r\n",
    "\r\n",
    "levels_v = []\r\n",
    "for i in levels:    \r\n",
    "    levels_v.append(list(stacked[stacked.iloc[:,0]==str(i)].iloc[:,1]))\r\n",
    "\r\n",
    "print(f_oneway(levels_v[0], levels_v[1], levels_v[2], levels_v[3]))\r\n",
    "\r\n",
    "tukey = pairwise_tukeyhsd(endog= stacked['Values'], groups=stacked['Levels'], alpha=0.05)\r\n",
    "# print(tukey)\r\n",
    "tukey.plot_simultaneous()\r\n",
    "\r\n",
    "tukey.summary()"
   ],
   "outputs": [],
   "metadata": {}
  },
  {
   "cell_type": "code",
   "execution_count": null,
   "source": [
    "facotr_1 = pd.read_csv('TaguchiDE.csv', header=None).iloc[:,3]\r\n",
    "# print(facotr_1)\r\n",
    "data3 = data2.copy()\r\n",
    "data3.insert(0, 'MaxItr_F', facotr_1)\r\n",
    "# print(data3[data3['MaxItr_F'] == 10])\r\n",
    "levels = list(dict.fromkeys(data3['MaxItr_F']))\r\n",
    "# print(levels)\r\n",
    "stacked_values = []\r\n",
    "\r\n",
    "stacked_levels = []\r\n",
    "for i in levels:    \r\n",
    "    df = data3[data3['MaxItr_F'] == i].iloc[:,1:]\r\n",
    "    # print(i)\r\n",
    "    lst = []\r\n",
    "    for j in df:\r\n",
    "        lst.extend(df[j])\r\n",
    "    x = ((str(i) + ' ') * len(lst)).split()    \r\n",
    "    stacked_levels.extend(x)\r\n",
    "    # print(stacked_levels)\r\n",
    "    stacked_values.extend(lst)\r\n",
    "\r\n",
    "stacked = pd.DataFrame({'Levels': stacked_levels, 'Values':stacked_values})\r\n",
    "\r\n",
    "levels_v = []\r\n",
    "for i in levels:    \r\n",
    "    levels_v.append(list(stacked[stacked.iloc[:,0]==str(i)].iloc[:,1]))\r\n",
    "\r\n",
    "print(f_oneway(levels_v[0], levels_v[1], levels_v[2], levels_v[3]))\r\n",
    "\r\n",
    "tukey = pairwise_tukeyhsd(endog= stacked['Values'], groups=stacked['Levels'], alpha=0.05)\r\n",
    "# print(tukey)\r\n",
    "tukey.plot_simultaneous()\r\n",
    "\r\n",
    "tukey.summary()"
   ],
   "outputs": [],
   "metadata": {}
  },
  {
   "cell_type": "code",
   "execution_count": null,
   "source": [
    "facotr_1 = pd.read_csv('TaguchiDE.csv', header=None).iloc[:,4]\r\n",
    "# print(facotr_1)\r\n",
    "data3 = data2.copy()\r\n",
    "data3.insert(0, 'MaxItr_F', facotr_1)\r\n",
    "# print(data3[data3['MaxItr_F'] == 10])\r\n",
    "levels = list(dict.fromkeys(data3['MaxItr_F']))\r\n",
    "# print(levels)\r\n",
    "stacked_values = []\r\n",
    "\r\n",
    "stacked_levels = []\r\n",
    "for i in levels:    \r\n",
    "    df = data3[data3['MaxItr_F'] == i].iloc[:,1:]\r\n",
    "    # print(i)\r\n",
    "    lst = []\r\n",
    "    for j in df:\r\n",
    "        lst.extend(df[j])\r\n",
    "    x = ((str(i) + ' ') * len(lst)).split()    \r\n",
    "    stacked_levels.extend(x)\r\n",
    "    # print(stacked_levels)\r\n",
    "    stacked_values.extend(lst)\r\n",
    "\r\n",
    "stacked = pd.DataFrame({'Levels': stacked_levels, 'Values':stacked_values})\r\n",
    "\r\n",
    "levels_v = []\r\n",
    "for i in levels:    \r\n",
    "    levels_v.append(list(stacked[stacked.iloc[:,0]==str(i)].iloc[:,1]))\r\n",
    "\r\n",
    "print(f_oneway(levels_v[0], levels_v[1], levels_v[2], levels_v[3]))\r\n",
    "\r\n",
    "tukey = pairwise_tukeyhsd(endog= stacked['Values'], groups=stacked['Levels'], alpha=0.05)\r\n",
    "# print(tukey)\r\n",
    "tukey.plot_simultaneous()\r\n",
    "\r\n",
    "tukey.summary()"
   ],
   "outputs": [],
   "metadata": {}
  },
  {
   "cell_type": "code",
   "execution_count": null,
   "source": [
    "with open('problems.csv', 'r') as fl:\r\n",
    "    problems = fl.readlines()\r\n",
    "with open('results_DE.csv', 'w') as fl:\r\n",
    "    fl.write(\"Problem,result\\n\")\r\n",
    "    for i in problems:    \r\n",
    "        lst = i.strip().split(',')\r\n",
    "        \r\n",
    "        # differential_ev('MITCHELL.txt', 26, 0.95,2,25, 50, 0, 0.5, 0.3)\r\n",
    "        result = differential_ev(lst[0], int(lst[1]),0.95, 2,25, 50, 0, 0.5, 0.3)\r\n",
    "        print(lst)\r\n",
    "        sol_result = result[0].solution\r\n",
    "        r_time = result[1]\r\n",
    "        # print(sol_result)\r\n",
    "        # print(lst[0])\r\n",
    "        # print(sol_result[2], sol_result[3])\r\n",
    "        fl.write(lst[0] + ',' + str(sol_result[1]) + ',' + str(r_time) +  '\\n')\r\n",
    "\r\n"
   ],
   "outputs": [],
   "metadata": {}
  },
  {
   "cell_type": "code",
   "execution_count": 2,
   "source": [
    "with open('problems.csv', 'r') as fl:\r\n",
    "    problems = fl.readlines()"
   ],
   "outputs": [],
   "metadata": {}
  },
  {
   "cell_type": "code",
   "execution_count": 3,
   "source": [
    "from Multi_Manned_with_U_Shaped_functions import *"
   ],
   "outputs": [],
   "metadata": {}
  },
  {
   "cell_type": "code",
   "execution_count": 16,
   "source": [
    "problem = prob_data(problems[0].strip().split(',')[0])\r\n",
    "\r\n",
    "with open('problem_sizes.csv', 'w') as fl:\r\n",
    "    for j in problems:\r\n",
    "        problem_name = j.strip().split(',')[0][:-4]\r\n",
    "        problem = prob_data(j.strip().split(',')[0])\r\n",
    "        size = str(len(problem[0].keys()))\r\n",
    "        fl.write(problem_name + ',' + size + '\\n')"
   ],
   "outputs": [
    {
     "output_type": "error",
     "ename": "FileNotFoundError",
     "evalue": "[Errno 2] No such file or directory: 'M.txt'",
     "traceback": [
      "\u001b[1;31m---------------------------------------------------------------------------\u001b[0m",
      "\u001b[1;31mFileNotFoundError\u001b[0m                         Traceback (most recent call last)",
      "\u001b[1;32m~\\AppData\\Local\\Temp/ipykernel_5024/2007671148.py\u001b[0m in \u001b[0;36m<module>\u001b[1;34m\u001b[0m\n\u001b[0;32m      4\u001b[0m     \u001b[1;32mfor\u001b[0m \u001b[0mj\u001b[0m \u001b[1;32min\u001b[0m \u001b[0mproblems\u001b[0m\u001b[1;33m:\u001b[0m\u001b[1;33m\u001b[0m\u001b[1;33m\u001b[0m\u001b[0m\n\u001b[0;32m      5\u001b[0m         \u001b[0mproblem_name\u001b[0m \u001b[1;33m=\u001b[0m \u001b[0mj\u001b[0m\u001b[1;33m[\u001b[0m\u001b[1;36m0\u001b[0m\u001b[1;33m]\u001b[0m\u001b[1;33m.\u001b[0m\u001b[0mstrip\u001b[0m\u001b[1;33m(\u001b[0m\u001b[1;33m)\u001b[0m\u001b[1;33m.\u001b[0m\u001b[0msplit\u001b[0m\u001b[1;33m(\u001b[0m\u001b[1;34m','\u001b[0m\u001b[1;33m)\u001b[0m\u001b[1;33m[\u001b[0m\u001b[1;36m0\u001b[0m\u001b[1;33m]\u001b[0m\u001b[1;33m[\u001b[0m\u001b[1;33m:\u001b[0m\u001b[1;33m-\u001b[0m\u001b[1;36m4\u001b[0m\u001b[1;33m]\u001b[0m\u001b[1;33m\u001b[0m\u001b[1;33m\u001b[0m\u001b[0m\n\u001b[1;32m----> 6\u001b[1;33m         \u001b[0mproblem\u001b[0m \u001b[1;33m=\u001b[0m \u001b[0mprob_data\u001b[0m\u001b[1;33m(\u001b[0m\u001b[0mj\u001b[0m\u001b[1;33m[\u001b[0m\u001b[1;36m0\u001b[0m\u001b[1;33m]\u001b[0m\u001b[1;33m.\u001b[0m\u001b[0mstrip\u001b[0m\u001b[1;33m(\u001b[0m\u001b[1;33m)\u001b[0m\u001b[1;33m.\u001b[0m\u001b[0msplit\u001b[0m\u001b[1;33m(\u001b[0m\u001b[1;34m','\u001b[0m\u001b[1;33m)\u001b[0m\u001b[1;33m[\u001b[0m\u001b[1;36m0\u001b[0m\u001b[1;33m]\u001b[0m\u001b[1;33m)\u001b[0m\u001b[1;33m\u001b[0m\u001b[1;33m\u001b[0m\u001b[0m\n\u001b[0m\u001b[0;32m      7\u001b[0m         \u001b[0msize\u001b[0m \u001b[1;33m=\u001b[0m \u001b[0mstr\u001b[0m\u001b[1;33m(\u001b[0m\u001b[0mlen\u001b[0m\u001b[1;33m(\u001b[0m\u001b[0mproblem\u001b[0m\u001b[1;33m[\u001b[0m\u001b[1;36m0\u001b[0m\u001b[1;33m]\u001b[0m\u001b[1;33m.\u001b[0m\u001b[0mkeys\u001b[0m\u001b[1;33m(\u001b[0m\u001b[1;33m)\u001b[0m\u001b[1;33m)\u001b[0m\u001b[1;33m)\u001b[0m\u001b[1;33m\u001b[0m\u001b[1;33m\u001b[0m\u001b[0m\n\u001b[0;32m      8\u001b[0m         \u001b[0mfl\u001b[0m\u001b[1;33m.\u001b[0m\u001b[0mwrite\u001b[0m\u001b[1;33m(\u001b[0m\u001b[0mproblem_name\u001b[0m \u001b[1;33m+\u001b[0m \u001b[1;34m','\u001b[0m \u001b[1;33m+\u001b[0m \u001b[0msize\u001b[0m \u001b[1;33m+\u001b[0m \u001b[1;34m'\\n'\u001b[0m\u001b[1;33m)\u001b[0m\u001b[1;33m\u001b[0m\u001b[1;33m\u001b[0m\u001b[0m\n",
      "\u001b[1;32mc:\\Users\\mohammad\\Desktop\\DE Algorithm\\Multi_Manned_with_U_Shaped_functions.py\u001b[0m in \u001b[0;36mprob_data\u001b[1;34m(file_name)\u001b[0m\n\u001b[0;32m      8\u001b[0m         \u001b[0mfile_name\u001b[0m \u001b[1;33m=\u001b[0m \u001b[0mfile_name\u001b[0m \u001b[1;33m+\u001b[0m \u001b[1;34m'.txt'\u001b[0m\u001b[1;33m\u001b[0m\u001b[1;33m\u001b[0m\u001b[0m\n\u001b[0;32m      9\u001b[0m         \u001b[1;31m# print(file_name)\u001b[0m\u001b[1;33m\u001b[0m\u001b[1;33m\u001b[0m\u001b[1;33m\u001b[0m\u001b[0m\n\u001b[1;32m---> 10\u001b[1;33m         \u001b[0mfl\u001b[0m \u001b[1;33m=\u001b[0m \u001b[0mopen\u001b[0m\u001b[1;33m(\u001b[0m\u001b[0mfile_name\u001b[0m\u001b[1;33m,\u001b[0m \u001b[1;34m'r'\u001b[0m\u001b[1;33m)\u001b[0m\u001b[1;33m\u001b[0m\u001b[1;33m\u001b[0m\u001b[0m\n\u001b[0m\u001b[0;32m     11\u001b[0m     \u001b[1;32melse\u001b[0m\u001b[1;33m:\u001b[0m\u001b[1;33m\u001b[0m\u001b[1;33m\u001b[0m\u001b[0m\n\u001b[0;32m     12\u001b[0m         \u001b[1;31m# print(file_name)\u001b[0m\u001b[1;33m\u001b[0m\u001b[1;33m\u001b[0m\u001b[1;33m\u001b[0m\u001b[0m\n",
      "\u001b[1;31mFileNotFoundError\u001b[0m: [Errno 2] No such file or directory: 'M.txt'"
     ]
    }
   ],
   "metadata": {}
  }
 ],
 "metadata": {
  "orig_nbformat": 4,
  "language_info": {
   "name": "python",
   "version": "3.9.6",
   "mimetype": "text/x-python",
   "codemirror_mode": {
    "name": "ipython",
    "version": 3
   },
   "pygments_lexer": "ipython3",
   "nbconvert_exporter": "python",
   "file_extension": ".py"
  },
  "kernelspec": {
   "name": "python3",
   "display_name": "Python 3.9.6 64-bit"
  },
  "interpreter": {
   "hash": "63fd5069d213b44bf678585dea6b12cceca9941eaf7f819626cde1f2670de90d"
  }
 },
 "nbformat": 4,
 "nbformat_minor": 2
}